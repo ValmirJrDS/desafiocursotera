{
  "nbformat": 4,
  "nbformat_minor": 0,
  "metadata": {
    "colab": {
      "name": "Desafio pré-DSC.ipynb - Valmir Moreira",
      "provenance": [],
      "collapsed_sections": [],
      "include_colab_link": true
    },
    "kernelspec": {
      "name": "python3",
      "display_name": "Python 3"
    },
    "language_info": {
      "name": "python"
    }
  },
  "cells": [
    {
      "cell_type": "markdown",
      "metadata": {
        "id": "view-in-github",
        "colab_type": "text"
      },
      "source": [
        "<a href=\"https://colab.research.google.com/github/ValmirJrDS/desafiocursotera/blob/main/Desafio_pr%C3%A9_DSC_ipynb_Valmir_Moreira.ipynb\" target=\"_parent\"><img src=\"https://colab.research.google.com/assets/colab-badge.svg\" alt=\"Open In Colab\"/></a>"
      ]
    },
    {
      "cell_type": "markdown",
      "metadata": {
        "id": "IOcNyA9zDLHA"
      },
      "source": [
        "# Desafio Mini-curso Python\n",
        "\n",
        "Olá! Que bom que você veio!<br>\n",
        "**INSTRUÇÕES**"
      ]
    },
    {
      "cell_type": "markdown",
      "metadata": {
        "id": "dLD5TIJ__Yk7"
      },
      "source": [
        "\n",
        "### 1) Considere que a aresta deste cubo tem 8cm. Calcule o volume total dessa peça. Guarde o resultado na variável `cubo`.\n",
        "\n",
        "![image](https://upload.wikimedia.org/wikipedia/commons/thumb/7/78/Hexahedron.jpg/280px-Hexahedron.jpg)\n",
        "\n",
        "\n",
        "Dica: Volume de um cubo é sua aresta elevada a terceira potência."
      ]
    },
    {
      "cell_type": "code",
      "metadata": {
        "id": "81gUfCDu7Dyi"
      },
      "source": [
        "#Coloque sua resposta aqui"
      ],
      "execution_count": null,
      "outputs": []
    },
    {
      "cell_type": "code",
      "metadata": {
        "id": "FyuFjeBj7FWt",
        "colab": {
          "base_uri": "https://localhost:8080/"
        },
        "outputId": "48fcc0d5-7cf6-4bc8-e984-24a23e3ac88e"
      },
      "source": [
        "aresta = 8\n",
        "cubo = aresta ** 3\n",
        "cubo"
      ],
      "execution_count": 1,
      "outputs": [
        {
          "output_type": "execute_result",
          "data": {
            "text/plain": [
              "512"
            ]
          },
          "metadata": {},
          "execution_count": 1
        }
      ]
    },
    {
      "cell_type": "markdown",
      "metadata": {
        "id": "7O42PL9xBiol"
      },
      "source": [
        "## Números primos\n",
        "Os Números Primos são números naturais maiores do que 1 que possuem somente dois divisores, ou seja, são divisíveis por 1 e por ele mesmo.\n",
        "\n",
        "**Rode a célula contento a lista de `numeros_primos` antes de continuar**\n",
        "\n",
        "### Faça os exercícios de **2** a **5** seguintes operações com a lista `numeros_primos`"
      ]
    },
    {
      "cell_type": "code",
      "metadata": {
        "id": "UOGds40b7LOV"
      },
      "source": [
        "#Rode essa célula\n",
        "numeros_primos = [2, 3, 5, 7, 11, 13, 17, 19, 23, 29, 31, 37, 41, 43, 47, 53, 59, 61, 67, 71, 73, 79, 83, 89, 97, 101, 103, 107, 109, 113, 127, 131, 137, 139, 149, 151, 157, 163, 167, 173, 179, 181, 191, 193, 197, 199, 211, 223, 227, 229, 233, 239, 241, 251, 257, 263, 269, 271, 277, 281, 283, 293, 307, 311, 313, 317, 331, 337, 347, 349, 353, 359, 367, 373, 379, 383, 389, 397, 401, 409, 419, 421, 431, 433, 439, 443, 449, 457, 461, 463, 467, 479, 487, 491, 499, 503, 509, 521, 523, 541, 547, 557, 563, 569, 571, 577, 587, 593, 599, 601, 607, 613, 617, 619, 631, 641, 643, 647, 653, 659, 661, 673, 677, 683, 691, 701, 709, 719, 727, 733, 739, 743, 751, 757, 761, 769, 773, 787, 797, 809, 811, 821, 823, 827, 829, 839, 853, 857, 859, 863, 877, 881, 883, 887, 907, 911, 919, 929, 937, 941, 947, 953, 967, 971, 977, 983, 991, 997]"
      ],
      "execution_count": 2,
      "outputs": []
    },
    {
      "cell_type": "markdown",
      "metadata": {
        "id": "xBl_sfdNhwrZ"
      },
      "source": [
        "### 2) Guarde na variável `quinto_elemento` o quinto elemento da lista `numeros_primos`"
      ]
    },
    {
      "cell_type": "code",
      "metadata": {
        "id": "MMLCzGEwCdhG"
      },
      "source": [
        "#Coloque sua resposta aqui"
      ],
      "execution_count": null,
      "outputs": []
    },
    {
      "cell_type": "code",
      "metadata": {
        "id": "5TtZ9gDoFiJA",
        "colab": {
          "base_uri": "https://localhost:8080/"
        },
        "outputId": "483d356a-b180-4645-ab45-ca00bae16130"
      },
      "source": [
        "quinto_elemneto=numeros_primos[5]\n",
        "quinto_elemneto"
      ],
      "execution_count": 3,
      "outputs": [
        {
          "output_type": "execute_result",
          "data": {
            "text/plain": [
              "13"
            ]
          },
          "metadata": {},
          "execution_count": 3
        }
      ]
    },
    {
      "cell_type": "markdown",
      "metadata": {
        "id": "burC7-LpiBgV"
      },
      "source": [
        "### 3) Guarde na variável `10_primos` uma lista com os 10 primeiros numeros primos da lista `numeros_primos`"
      ]
    },
    {
      "cell_type": "code",
      "metadata": {
        "id": "OSuC_9MviGk9"
      },
      "source": [
        "#Coloque sua resposta aqui"
      ],
      "execution_count": null,
      "outputs": []
    },
    {
      "cell_type": "code",
      "metadata": {
        "id": "f02XoEz-iGVI",
        "colab": {
          "base_uri": "https://localhost:8080/"
        },
        "outputId": "f8a249b2-d64f-44e5-b3e7-0480750ac920"
      },
      "source": [
        "_primos = numeros_primos[:10]\n",
        "_primos"
      ],
      "execution_count": 4,
      "outputs": [
        {
          "output_type": "execute_result",
          "data": {
            "text/plain": [
              "[2, 3, 5, 7, 11, 13, 17, 19, 23, 29]"
            ]
          },
          "metadata": {},
          "execution_count": 4
        }
      ]
    },
    {
      "cell_type": "markdown",
      "metadata": {
        "id": "aaGOemOliHmP"
      },
      "source": [
        "### 4) Guarde na variável `soma_primos` a soma total da lista `numeros_primos`"
      ]
    },
    {
      "cell_type": "code",
      "metadata": {
        "id": "RuoDemLQiUBF"
      },
      "source": [
        "#Coloque sua resposta aqui"
      ],
      "execution_count": null,
      "outputs": []
    },
    {
      "cell_type": "code",
      "metadata": {
        "id": "HpIslXZIiT3m",
        "colab": {
          "base_uri": "https://localhost:8080/"
        },
        "outputId": "112c203a-8d72-453d-8d66-40c33d55239b"
      },
      "source": [
        "soma_primos = sum(numeros_primos)\n",
        "print(f'A soma total dos numeros primos é -> {soma_primos}')"
      ],
      "execution_count": 5,
      "outputs": [
        {
          "output_type": "stream",
          "name": "stdout",
          "text": [
            "A soma total dos numeros primos é -> 76127\n"
          ]
        }
      ]
    },
    {
      "cell_type": "markdown",
      "metadata": {
        "id": "ydb57E7kiU7d"
      },
      "source": [
        "### 5) Guarde na variável `primos_dobro` uma nova lista que seja a lista `numeros_primos` com seus elementos multiplicados por 2 (Dica: utilize `list comprehension`)"
      ]
    },
    {
      "cell_type": "code",
      "metadata": {
        "id": "yrVh_lSDidlX"
      },
      "source": [
        "#Coloque sua resposta aqui"
      ],
      "execution_count": null,
      "outputs": []
    },
    {
      "cell_type": "code",
      "metadata": {
        "id": "QH8YXh1kidfT",
        "colab": {
          "base_uri": "https://localhost:8080/"
        },
        "outputId": "9d45e781-ff0b-468c-9667-70a7338d69e8"
      },
      "source": [
        "primos_dobro = [primos *2 for primos in numeros_primos]\n",
        "print(primos_dobro)"
      ],
      "execution_count": 6,
      "outputs": [
        {
          "output_type": "stream",
          "name": "stdout",
          "text": [
            "[4, 6, 10, 14, 22, 26, 34, 38, 46, 58, 62, 74, 82, 86, 94, 106, 118, 122, 134, 142, 146, 158, 166, 178, 194, 202, 206, 214, 218, 226, 254, 262, 274, 278, 298, 302, 314, 326, 334, 346, 358, 362, 382, 386, 394, 398, 422, 446, 454, 458, 466, 478, 482, 502, 514, 526, 538, 542, 554, 562, 566, 586, 614, 622, 626, 634, 662, 674, 694, 698, 706, 718, 734, 746, 758, 766, 778, 794, 802, 818, 838, 842, 862, 866, 878, 886, 898, 914, 922, 926, 934, 958, 974, 982, 998, 1006, 1018, 1042, 1046, 1082, 1094, 1114, 1126, 1138, 1142, 1154, 1174, 1186, 1198, 1202, 1214, 1226, 1234, 1238, 1262, 1282, 1286, 1294, 1306, 1318, 1322, 1346, 1354, 1366, 1382, 1402, 1418, 1438, 1454, 1466, 1478, 1486, 1502, 1514, 1522, 1538, 1546, 1574, 1594, 1618, 1622, 1642, 1646, 1654, 1658, 1678, 1706, 1714, 1718, 1726, 1754, 1762, 1766, 1774, 1814, 1822, 1838, 1858, 1874, 1882, 1894, 1906, 1934, 1942, 1954, 1966, 1982, 1994]\n"
          ]
        }
      ]
    },
    {
      "cell_type": "markdown",
      "metadata": {
        "id": "FE5nHllAGpH-"
      },
      "source": [
        "### Dicionários\n",
        "\n",
        "A **Escala de Scoville** é usda para medir o grau de ardência das pimentas. Preparamos um dicionário com o nome da pimenta e sua respectiva ardência em unidades Scoville.\n",
        "\n",
        "**Rode a célula contento o dicionário de `pimentas` antes de continuar**\n",
        "\n",
        "### Faça os exercícios de **6** e **7** seguintes operações com o dicionário `pimentas`"
      ]
    },
    {
      "cell_type": "code",
      "metadata": {
        "id": "MkLSgv9bG-0z"
      },
      "source": [
        "#Rode essa célula\n",
        "pimentas = {\n",
        "    'Pimentão': 0,\n",
        "    'Pepperoncini': 300,\n",
        "    'Molho Tabasco Jalapenho': 700,\n",
        "    'Pimenta Anaheim': 750\t,\n",
        "    'Pimenta Poblano': 1250,\n",
        "    'Pimenta Rocotillo': 2000,\n",
        "    'Molho Tabasco': 3750,\n",
        "    'Pimenta Jalapeño': 5250,\n",
        "    'Wax Pepper': 7500,\n",
        "    'Molho Tabasco Habanero': 7500,\n",
        "    'Pimenta Dedo de Moça': 10000,\n",
        "    'Pimenta Serrano': 16500,\n",
        "    'Pimenta Malagueta': 75000,\n",
        "    'Jamaican Hot Pepper': 150000,\n",
        "    'Habanero Chili': 225000,\n",
        "    'Pimenta de Chili Scotch Bonnet': 225000,\n",
        "    'Habanero Chili Red Savina': 463500,\n",
        "    'Dorset Naga': 923000,\n",
        "    'Pimenta Naga Bhut Jolokia': 927500,\n",
        "    'Pimenta Infinity Chilli': 1000000,\n",
        "    'Pimenta Naga Viper': 1300000,\n",
        "    'Pimenta Trinidad Scorpion Butch T': 1604615,\n",
        "    'Vicnic-1313': 1820000,\n",
        "    'Carolina Reaper': 1884650\n",
        "}"
      ],
      "execution_count": 7,
      "outputs": []
    },
    {
      "cell_type": "markdown",
      "metadata": {
        "id": "oqRxRy-yiqGD"
      },
      "source": [
        "### 6) Guarde na variável `quente` o valor de ardência da pimenta `Carolina Reaper`"
      ]
    },
    {
      "cell_type": "code",
      "metadata": {
        "id": "9nmomkoOJ8WA"
      },
      "source": [
        "#Coloque sua resposta aqui"
      ],
      "execution_count": null,
      "outputs": []
    },
    {
      "cell_type": "code",
      "metadata": {
        "id": "ScBaySNiMQCu",
        "colab": {
          "base_uri": "https://localhost:8080/"
        },
        "outputId": "3c246ca6-dbfd-4f59-c862-6cc9ef31bce3"
      },
      "source": [
        "quente = pimentas['Carolina Reaper']\n",
        "quente"
      ],
      "execution_count": 8,
      "outputs": [
        {
          "output_type": "execute_result",
          "data": {
            "text/plain": [
              "1884650"
            ]
          },
          "metadata": {},
          "execution_count": 8
        }
      ]
    },
    {
      "cell_type": "markdown",
      "metadata": {
        "id": "JNVzzAHnjHIN"
      },
      "source": [
        "### 7) Insira no dicionário `pimentas` este novo par: `'Pimenta Caiena': 40000`"
      ]
    },
    {
      "cell_type": "code",
      "source": [
        "pimentas['Pimenta Caiena'] = 40000\n",
        "pimentas"
      ],
      "metadata": {
        "colab": {
          "base_uri": "https://localhost:8080/"
        },
        "id": "YP6t4arv64SX",
        "outputId": "aceaba2e-0839-425b-f429-b2327cda92cd"
      },
      "execution_count": 9,
      "outputs": [
        {
          "output_type": "execute_result",
          "data": {
            "text/plain": [
              "{'Carolina Reaper': 1884650,\n",
              " 'Dorset Naga': 923000,\n",
              " 'Habanero Chili': 225000,\n",
              " 'Habanero Chili Red Savina': 463500,\n",
              " 'Jamaican Hot Pepper': 150000,\n",
              " 'Molho Tabasco': 3750,\n",
              " 'Molho Tabasco Habanero': 7500,\n",
              " 'Molho Tabasco Jalapenho': 700,\n",
              " 'Pepperoncini': 300,\n",
              " 'Pimenta Anaheim': 750,\n",
              " 'Pimenta Caiena': 40000,\n",
              " 'Pimenta Dedo de Moça': 10000,\n",
              " 'Pimenta Infinity Chilli': 1000000,\n",
              " 'Pimenta Jalapeño': 5250,\n",
              " 'Pimenta Malagueta': 75000,\n",
              " 'Pimenta Naga Bhut Jolokia': 927500,\n",
              " 'Pimenta Naga Viper': 1300000,\n",
              " 'Pimenta Poblano': 1250,\n",
              " 'Pimenta Rocotillo': 2000,\n",
              " 'Pimenta Serrano': 16500,\n",
              " 'Pimenta Trinidad Scorpion Butch T': 1604615,\n",
              " 'Pimenta de Chili Scotch Bonnet': 225000,\n",
              " 'Pimentão': 0,\n",
              " 'Vicnic-1313': 1820000,\n",
              " 'Wax Pepper': 7500}"
            ]
          },
          "metadata": {},
          "execution_count": 9
        }
      ]
    },
    {
      "cell_type": "markdown",
      "metadata": {
        "id": "99zhKnbMMQam"
      },
      "source": [
        "## Funções e condicionais\n",
        "\n",
        "O **IMC** (Indice de Massa Corporal) é um critério da Organização Mundial de Saúde para dar uma indicação sobre a condição de peso de uma pessoa adulta. A fórmula é IMC = peso / ( altura )²\n",
        "\n",
        "### 8) Construa uma função de nome `calcular_imc` que receba o peso e a altura de um adulto e mostre sua condição de acordo com a tabela abaixo.\n",
        "\n",
        "| IMC em adultos  | Condição       |\n",
        "|-----------------|----------------|\n",
        "| Abaixo de 18,5  | Abaixo do peso |\n",
        "| Entre 18,5 e 25 | Peso normal    |\n",
        "| Entre 25 e 30   | Acima do peso  |\n",
        "| Acima de 30     | obeso          |"
      ]
    },
    {
      "cell_type": "code",
      "metadata": {
        "id": "68YWNIS9jdue"
      },
      "source": [
        "#Coloque sua resposta aqui"
      ],
      "execution_count": null,
      "outputs": []
    },
    {
      "cell_type": "code",
      "metadata": {
        "id": "dXk93hfwjdoZ",
        "colab": {
          "base_uri": "https://localhost:8080/"
        },
        "outputId": "4b754fb6-3dd1-469e-a5c5-dcc733d157e9"
      },
      "source": [
        "peso = float(input('QUAL SEU PESO? (KG) '))\n",
        "altura = float(input('QUAL A SUA ALLTURA? (M) '))\n",
        "imc = peso / (altura **2)\n",
        "print('O IMC DESSE ADULTO É DE {:.1f}'.format(imc))\n",
        "if imc < 18.5:\n",
        "  print('VOCÊ ESTÁ ABAIXO DO PESO')\n",
        "elif 18.5 <= imc < 25:\n",
        "  print('VOCÊ ESTÁ PESO NORMAL')\n",
        "elif 25 <= imc < 30:\n",
        "  print('VOCÊ ESTÁ ACIMA DO PESO')\n",
        "elif imc > 30:\n",
        "  print('VOCÊ ESTÁ OBESSO')"
      ],
      "execution_count": 13,
      "outputs": [
        {
          "output_type": "stream",
          "name": "stdout",
          "text": [
            "QUAL SEU PESO? (KG) 81\n",
            "QUAL A SUA ALLTURA? (M) 1.78\n",
            "O IMC DESSE ADULTO É DE 25.6\n",
            "VOCÊ ESTÁ ACIMA DO PESO\n"
          ]
        }
      ]
    },
    {
      "cell_type": "markdown",
      "metadata": {
        "id": "UOg-3G-LNrnL"
      },
      "source": [
        "## Com base na sua função faça os seguintes exercícios:\n",
        "### 9) Guarde na variável `cond1` o IMC de uma pessoa que tenha 1,72 de altura e 80Kg de peso\n"
      ]
    },
    {
      "cell_type": "code",
      "metadata": {
        "id": "yeJ2_aTQOjYg"
      },
      "source": [
        "#Coloque sua resposta aqui"
      ],
      "execution_count": null,
      "outputs": []
    },
    {
      "cell_type": "code",
      "metadata": {
        "id": "Pl4Hg7ujO7NN",
        "colab": {
          "base_uri": "https://localhost:8080/"
        },
        "outputId": "76cb4ffe-a0e5-494d-b3dd-dd412ceef92f"
      },
      "source": [
        "peso = float(input('QUAL SEU PESO? (KG) '))\n",
        "altura = float(input('QUAL A SUA ALLTURA? (M) '))\n",
        "imc = peso / (altura **2)\n",
        "cond1 = imc\n",
        "print('O IMC DESSE ADULTO É DE {:.1f}'.format(imc))\n",
        "if imc < 18.5:\n",
        "  print('VOCÊ ESTÁ ABAIXO DO PESO')\n",
        "elif 18.5 <= imc < 25:\n",
        "  print('VOCÊ ESTÁ PESO NORMAL')\n",
        "elif 25 <= imc < 30:\n",
        "  print('VOCÊ ESTÁ ACIMA DO PESO')\n",
        "elif imc > 30:\n",
        "  print('VOCÊ ESTÁ OBESSO')\n",
        "print('OVALOR DA VARIAVEL COND1 É: {:.1f}'.format(cond1))"
      ],
      "execution_count": 14,
      "outputs": [
        {
          "output_type": "stream",
          "name": "stdout",
          "text": [
            "QUAL SEU PESO? (KG) 80\n",
            "QUAL A SUA ALLTURA? (M) 1.72\n",
            "O IMC DESSE ADULTO É DE 27.0\n",
            "VOCÊ ESTÁ ACIMA DO PESO\n",
            "OVALOR DA VARIAVEL COND1 É: 27.0\n"
          ]
        }
      ]
    },
    {
      "cell_type": "markdown",
      "metadata": {
        "id": "Cfhepz8-joC9"
      },
      "source": [
        "### 10) Guarde na variável `cond2` o IMC de uma pessoa que tenha 2,1 de altura e 70Kg de peso\n"
      ]
    },
    {
      "cell_type": "code",
      "metadata": {
        "id": "peYbd5wTjsxm"
      },
      "source": [
        "#Coloque sua resposta aqui"
      ],
      "execution_count": null,
      "outputs": []
    },
    {
      "cell_type": "code",
      "metadata": {
        "id": "fahrcDjTjsqw",
        "colab": {
          "base_uri": "https://localhost:8080/"
        },
        "outputId": "7bb3ef5e-b562-4916-e3cb-a18ba15d42ef"
      },
      "source": [
        "peso = float(input('QUAL SEU PESO? (KG) '))\n",
        "altura = float(input('QUAL A SUA ALLTURA? (M) '))\n",
        "imc = peso / (altura **2)\n",
        "cond2 = imc\n",
        "print('O IMC DESSE ADULTO É DE {:.1f}'.format(imc))\n",
        "if imc < 18.5:\n",
        "  print('VOCÊ ESTÁ ABAIXO DO PESO')\n",
        "elif 18.5 <= imc < 25:\n",
        "  print('VOCÊ ESTÁ PESO NORMAL')\n",
        "elif 25 <= imc < 30:\n",
        "  print('VOCÊ ESTÁ ACIMA DO PESO')\n",
        "elif imc > 30:\n",
        "  print('VOCÊ ESTÁ OBESSO')\n",
        "print('OVALOR DA VARIAVEL COND2 É: {:.1f}'.format(cond2))"
      ],
      "execution_count": 15,
      "outputs": [
        {
          "output_type": "stream",
          "name": "stdout",
          "text": [
            "QUAL SEU PESO? (KG) 70\n",
            "QUAL A SUA ALLTURA? (M) 2.1\n",
            "O IMC DESSE ADULTO É DE 15.9\n",
            "VOCÊ ESTÁ ABAIXO DO PESO\n",
            "OVALOR DA VARIAVEL COND2 É: 15.9\n"
          ]
        }
      ]
    },
    {
      "cell_type": "markdown",
      "metadata": {
        "id": "6Si1vAiMjtQA"
      },
      "source": [
        "### 11) Guarde na variável `cond3` o IMC de uma pessoa que tenha 1,55 de altura e 80Kg de peso"
      ]
    },
    {
      "cell_type": "code",
      "metadata": {
        "id": "8FsO1eWCjwFk"
      },
      "source": [
        "#Coloque sua resposta aqui"
      ],
      "execution_count": null,
      "outputs": []
    },
    {
      "cell_type": "code",
      "metadata": {
        "id": "4DOsi3gtjv-v",
        "colab": {
          "base_uri": "https://localhost:8080/"
        },
        "outputId": "2f04eb72-bd23-4f29-b91c-7b4c7940fad2"
      },
      "source": [
        "peso = float(input('QUAL SEU PESO? (KG) '))\n",
        "altura = float(input('QUAL A SUA ALLTURA? (M) '))\n",
        "imc = peso / (altura **2)\n",
        "cond3 = imc\n",
        "print('O IMC DESSE ADULTO É DE {:.1f}'.format(imc))\n",
        "if imc < 18.5:\n",
        "  print('VOCÊ ESTÁ ABAIXO DO PESO')\n",
        "elif 18.5 <= imc < 25:\n",
        "  print('VOCÊ ESTÁ PESO NORMAL')\n",
        "elif 25 <= imc < 30:\n",
        "  print('VOCÊ ESTÁ ACIMA DO PESO')\n",
        "elif imc > 30:\n",
        "  print('VOCÊ ESTÁ OBESSO')\n",
        "print('OVALOR DA VARIAVEL COND3 É: {:.1f}'.format(cond3))"
      ],
      "execution_count": 16,
      "outputs": [
        {
          "output_type": "stream",
          "name": "stdout",
          "text": [
            "QUAL SEU PESO? (KG) 80\n",
            "QUAL A SUA ALLTURA? (M) 1.55\n",
            "O IMC DESSE ADULTO É DE 33.3\n",
            "VOCÊ ESTÁ OBESSO\n",
            "OVALOR DA VARIAVEL COND3 É: 33.3\n"
          ]
        }
      ]
    },
    {
      "cell_type": "code",
      "source": [
        "print('O VALOR DA VARIEVEL COND1 É: {:.1f}'.format(cond1))\n",
        "print('O VALOR DA VARIEVEL COND2 É: {:.1f}'.format(cond2))\n",
        "print('O VALOR DA VARIEVEL COND3 É: {:.1f}'.format(cond3))"
      ],
      "metadata": {
        "colab": {
          "base_uri": "https://localhost:8080/"
        },
        "id": "eItAv9RW7rZh",
        "outputId": "310bb4c3-e9c2-4f43-ae63-a9f75e215704"
      },
      "execution_count": 17,
      "outputs": [
        {
          "output_type": "stream",
          "name": "stdout",
          "text": [
            "O VALOR DA VARIEVEL COND1 É: 27.0\n",
            "O VALOR DA VARIEVEL COND2 É: 15.9\n",
            "O VALOR DA VARIEVEL COND3 É: 33.3\n"
          ]
        }
      ]
    },
    {
      "cell_type": "markdown",
      "metadata": {
        "id": "EyNPc1qmRE6G"
      },
      "source": [
        "### Pandas\n",
        "#### Faça o download do `.csv` abaixo e faça a leitura dele no `pandas` guarde-a na variável `gorjetas`\n",
        "\n",
        "[Arquivo para download](https://drive.google.com/file/d/18f43p3FPmzRqN-I5S03U5pn6wdburrZQ/view?usp=sharing)\n",
        "\n",
        "Dica: Não se esqueça de importar a biblioteca pandas"
      ]
    },
    {
      "cell_type": "code",
      "source": [
        "import pandas as pd\n"
      ],
      "metadata": {
        "id": "w-okMTTR76JI"
      },
      "execution_count": 18,
      "outputs": []
    },
    {
      "cell_type": "code",
      "source": [
        "gorjetas = pd.read_csv(\"https://raw.githubusercontent.com/ValmirJrDS/datasets/main/gorjeta.csv\")\n",
        "print('Dimensões do Dataset',\n",
        "    '\\nVariáveis: ', gorjetas.shape[1], \"\\n\"\n",
        "      'Entradas: ', gorjetas.shape[0])"
      ],
      "metadata": {
        "colab": {
          "base_uri": "https://localhost:8080/"
        },
        "id": "pwUmYvPJ8ClE",
        "outputId": "2cb3c7f5-53f6-4ce9-acae-597d7b911f8e"
      },
      "execution_count": 24,
      "outputs": [
        {
          "output_type": "stream",
          "name": "stdout",
          "text": [
            "Dimensões do Dataset \n",
            "Variáveis:  4 \n",
            "Entradas:  244\n"
          ]
        }
      ]
    },
    {
      "cell_type": "code",
      "source": [
        "gorjetas.head()"
      ],
      "metadata": {
        "colab": {
          "base_uri": "https://localhost:8080/",
          "height": 206
        },
        "id": "Kcxy1gEg9RrW",
        "outputId": "a4b29ee0-05c0-4c8f-b66c-cfdd5f45b360"
      },
      "execution_count": 25,
      "outputs": [
        {
          "output_type": "execute_result",
          "data": {
            "text/plain": [
              "   total  gorjeta fumante  tamanho\n",
              "0  16.99     1.01      No        2\n",
              "1  10.34     1.66      No        3\n",
              "2  21.01     3.50      No        3\n",
              "3  23.68     3.31      No        2\n",
              "4  24.59     3.61      No        4"
            ],
            "text/html": [
              "\n",
              "  <div id=\"df-be8fde38-0c50-4f06-a226-4e0858a07ed4\">\n",
              "    <div class=\"colab-df-container\">\n",
              "      <div>\n",
              "<style scoped>\n",
              "    .dataframe tbody tr th:only-of-type {\n",
              "        vertical-align: middle;\n",
              "    }\n",
              "\n",
              "    .dataframe tbody tr th {\n",
              "        vertical-align: top;\n",
              "    }\n",
              "\n",
              "    .dataframe thead th {\n",
              "        text-align: right;\n",
              "    }\n",
              "</style>\n",
              "<table border=\"1\" class=\"dataframe\">\n",
              "  <thead>\n",
              "    <tr style=\"text-align: right;\">\n",
              "      <th></th>\n",
              "      <th>total</th>\n",
              "      <th>gorjeta</th>\n",
              "      <th>fumante</th>\n",
              "      <th>tamanho</th>\n",
              "    </tr>\n",
              "  </thead>\n",
              "  <tbody>\n",
              "    <tr>\n",
              "      <th>0</th>\n",
              "      <td>16.99</td>\n",
              "      <td>1.01</td>\n",
              "      <td>No</td>\n",
              "      <td>2</td>\n",
              "    </tr>\n",
              "    <tr>\n",
              "      <th>1</th>\n",
              "      <td>10.34</td>\n",
              "      <td>1.66</td>\n",
              "      <td>No</td>\n",
              "      <td>3</td>\n",
              "    </tr>\n",
              "    <tr>\n",
              "      <th>2</th>\n",
              "      <td>21.01</td>\n",
              "      <td>3.50</td>\n",
              "      <td>No</td>\n",
              "      <td>3</td>\n",
              "    </tr>\n",
              "    <tr>\n",
              "      <th>3</th>\n",
              "      <td>23.68</td>\n",
              "      <td>3.31</td>\n",
              "      <td>No</td>\n",
              "      <td>2</td>\n",
              "    </tr>\n",
              "    <tr>\n",
              "      <th>4</th>\n",
              "      <td>24.59</td>\n",
              "      <td>3.61</td>\n",
              "      <td>No</td>\n",
              "      <td>4</td>\n",
              "    </tr>\n",
              "  </tbody>\n",
              "</table>\n",
              "</div>\n",
              "      <button class=\"colab-df-convert\" onclick=\"convertToInteractive('df-be8fde38-0c50-4f06-a226-4e0858a07ed4')\"\n",
              "              title=\"Convert this dataframe to an interactive table.\"\n",
              "              style=\"display:none;\">\n",
              "        \n",
              "  <svg xmlns=\"http://www.w3.org/2000/svg\" height=\"24px\"viewBox=\"0 0 24 24\"\n",
              "       width=\"24px\">\n",
              "    <path d=\"M0 0h24v24H0V0z\" fill=\"none\"/>\n",
              "    <path d=\"M18.56 5.44l.94 2.06.94-2.06 2.06-.94-2.06-.94-.94-2.06-.94 2.06-2.06.94zm-11 1L8.5 8.5l.94-2.06 2.06-.94-2.06-.94L8.5 2.5l-.94 2.06-2.06.94zm10 10l.94 2.06.94-2.06 2.06-.94-2.06-.94-.94-2.06-.94 2.06-2.06.94z\"/><path d=\"M17.41 7.96l-1.37-1.37c-.4-.4-.92-.59-1.43-.59-.52 0-1.04.2-1.43.59L10.3 9.45l-7.72 7.72c-.78.78-.78 2.05 0 2.83L4 21.41c.39.39.9.59 1.41.59.51 0 1.02-.2 1.41-.59l7.78-7.78 2.81-2.81c.8-.78.8-2.07 0-2.86zM5.41 20L4 18.59l7.72-7.72 1.47 1.35L5.41 20z\"/>\n",
              "  </svg>\n",
              "      </button>\n",
              "      \n",
              "  <style>\n",
              "    .colab-df-container {\n",
              "      display:flex;\n",
              "      flex-wrap:wrap;\n",
              "      gap: 12px;\n",
              "    }\n",
              "\n",
              "    .colab-df-convert {\n",
              "      background-color: #E8F0FE;\n",
              "      border: none;\n",
              "      border-radius: 50%;\n",
              "      cursor: pointer;\n",
              "      display: none;\n",
              "      fill: #1967D2;\n",
              "      height: 32px;\n",
              "      padding: 0 0 0 0;\n",
              "      width: 32px;\n",
              "    }\n",
              "\n",
              "    .colab-df-convert:hover {\n",
              "      background-color: #E2EBFA;\n",
              "      box-shadow: 0px 1px 2px rgba(60, 64, 67, 0.3), 0px 1px 3px 1px rgba(60, 64, 67, 0.15);\n",
              "      fill: #174EA6;\n",
              "    }\n",
              "\n",
              "    [theme=dark] .colab-df-convert {\n",
              "      background-color: #3B4455;\n",
              "      fill: #D2E3FC;\n",
              "    }\n",
              "\n",
              "    [theme=dark] .colab-df-convert:hover {\n",
              "      background-color: #434B5C;\n",
              "      box-shadow: 0px 1px 3px 1px rgba(0, 0, 0, 0.15);\n",
              "      filter: drop-shadow(0px 1px 2px rgba(0, 0, 0, 0.3));\n",
              "      fill: #FFFFFF;\n",
              "    }\n",
              "  </style>\n",
              "\n",
              "      <script>\n",
              "        const buttonEl =\n",
              "          document.querySelector('#df-be8fde38-0c50-4f06-a226-4e0858a07ed4 button.colab-df-convert');\n",
              "        buttonEl.style.display =\n",
              "          google.colab.kernel.accessAllowed ? 'block' : 'none';\n",
              "\n",
              "        async function convertToInteractive(key) {\n",
              "          const element = document.querySelector('#df-be8fde38-0c50-4f06-a226-4e0858a07ed4');\n",
              "          const dataTable =\n",
              "            await google.colab.kernel.invokeFunction('convertToInteractive',\n",
              "                                                     [key], {});\n",
              "          if (!dataTable) return;\n",
              "\n",
              "          const docLinkHtml = 'Like what you see? Visit the ' +\n",
              "            '<a target=\"_blank\" href=https://colab.research.google.com/notebooks/data_table.ipynb>data table notebook</a>'\n",
              "            + ' to learn more about interactive tables.';\n",
              "          element.innerHTML = '';\n",
              "          dataTable['output_type'] = 'display_data';\n",
              "          await google.colab.output.renderOutput(dataTable, element);\n",
              "          const docLink = document.createElement('div');\n",
              "          docLink.innerHTML = docLinkHtml;\n",
              "          element.appendChild(docLink);\n",
              "        }\n",
              "      </script>\n",
              "    </div>\n",
              "  </div>\n",
              "  "
            ]
          },
          "metadata": {},
          "execution_count": 25
        }
      ]
    },
    {
      "cell_type": "markdown",
      "metadata": {
        "id": "joE44hAnR-ij"
      },
      "source": [
        "### Faça os exercícios de **12** a **14** com o DataDrame `gorjetas`\n",
        "\n",
        "### 12) Guarde na variável `media_contas` o valor da média da colula **total**"
      ]
    },
    {
      "cell_type": "code",
      "metadata": {
        "id": "GDX38jIGSQAi"
      },
      "source": [
        "#Coloque sua resposta aqui"
      ],
      "execution_count": null,
      "outputs": []
    },
    {
      "cell_type": "code",
      "metadata": {
        "id": "P-RPwBIIS7BA",
        "colab": {
          "base_uri": "https://localhost:8080/"
        },
        "outputId": "76e13255-2df7-426d-a82d-37ba8b473cc5"
      },
      "source": [
        "media_contas = gorjetas['total'].median()\n",
        "media_contas"
      ],
      "execution_count": 27,
      "outputs": [
        {
          "output_type": "execute_result",
          "data": {
            "text/plain": [
              "17.795"
            ]
          },
          "metadata": {},
          "execution_count": 27
        }
      ]
    },
    {
      "cell_type": "markdown",
      "metadata": {
        "id": "ZNW4kN0WkLSh"
      },
      "source": [
        "### 13) Guarde na variável `max_tamanho` o maior valor da colula **tamanho**\n"
      ]
    },
    {
      "cell_type": "code",
      "metadata": {
        "id": "NiqWBqLKkOZ-"
      },
      "source": [
        "#Coloque sua resposta aqui"
      ],
      "execution_count": null,
      "outputs": []
    },
    {
      "cell_type": "code",
      "metadata": {
        "id": "Xhf-TSjQkOIR",
        "colab": {
          "base_uri": "https://localhost:8080/"
        },
        "outputId": "e710f499-60f7-4f8e-a3f6-536fa263d7ce"
      },
      "source": [
        "max_tamanho = gorjetas['tamanho'].max()\n",
        "max_tamanho"
      ],
      "execution_count": 29,
      "outputs": [
        {
          "output_type": "execute_result",
          "data": {
            "text/plain": [
              "6"
            ]
          },
          "metadata": {},
          "execution_count": 29
        }
      ]
    },
    {
      "cell_type": "markdown",
      "metadata": {
        "id": "3-igfg6mkO4z"
      },
      "source": [
        "### 14) Guarde na variável `min_gorjeta` o menor valor da colula **gorjeta**"
      ]
    },
    {
      "cell_type": "code",
      "metadata": {
        "id": "0gtuiuuIkRuX"
      },
      "source": [
        "#Coloque sua resposta aqui"
      ],
      "execution_count": null,
      "outputs": []
    },
    {
      "cell_type": "code",
      "metadata": {
        "id": "XBq4l8jbkRms",
        "colab": {
          "base_uri": "https://localhost:8080/"
        },
        "outputId": "fc323c55-60df-4ec8-e0b9-89b7ed1e4486"
      },
      "source": [
        "min_gorjeta = gorjetas['gorjeta'].min()\n",
        "min_gorjeta"
      ],
      "execution_count": 31,
      "outputs": [
        {
          "output_type": "execute_result",
          "data": {
            "text/plain": [
              "1.0"
            ]
          },
          "metadata": {},
          "execution_count": 31
        }
      ]
    },
    {
      "cell_type": "markdown",
      "metadata": {
        "id": "fQj0RSSRTXiV"
      },
      "source": [
        "### 15) (Debugging) Encontre e arrume o erro do código abaixo:"
      ]
    },
    {
      "cell_type": "code",
      "metadata": {
        "colab": {
          "base_uri": "https://localhost:8080/"
        },
        "id": "E2W8KxAYTw7H",
        "outputId": "4da203f4-e00c-4b8b-af9a-9a59899d5cb2"
      },
      "source": [
        "idades = {\n",
        "    'Michael Scott': 43,\n",
        "    'Pam Beesly': 24,\n",
        "    'Jim Halpert': 25\n",
        "}\n",
        "\n",
        "michael = f'Michael Scott tem {idades[\"Michael Scott\"]} anos de idade.'\n",
        "print(michael)"
      ],
      "execution_count": 35,
      "outputs": [
        {
          "output_type": "stream",
          "name": "stdout",
          "text": [
            "Michael Scott tem 43 anos de idade.\n"
          ]
        }
      ]
    },
    {
      "cell_type": "code",
      "metadata": {
        "id": "xVxyp5mhUXV3"
      },
      "source": [
        ""
      ],
      "execution_count": null,
      "outputs": []
    }
  ]
}